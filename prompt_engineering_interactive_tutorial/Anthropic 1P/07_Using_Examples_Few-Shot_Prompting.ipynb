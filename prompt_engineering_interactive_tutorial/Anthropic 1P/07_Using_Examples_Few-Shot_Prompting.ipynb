{
 "cells": [
  {
   "cell_type": "markdown",
   "metadata": {},
   "source": [
    "# Chapter 7: Using Examples (Few-Shot Prompting)\n",
    "\n",
    "- [Lesson](#lesson)\n",
    "- [Exercises](#exercises)\n",
    "- [Example Playground](#example-playground)\n",
    "\n",
    "## Setup\n",
    "\n",
    "Run the following setup cell to load your API key and establish the `get_completion` helper function."
   ]
  },
  {
   "cell_type": "code",
   "execution_count": 9,
   "metadata": {},
   "outputs": [],
   "source": [
    "import os\n",
    "API_KEY = os.environ['ANTHROPIC_API_KEY']\n",
    "MODEL_NAME = \"claude-3-haiku-20240307\""
   ]
  },
  {
   "cell_type": "code",
   "execution_count": 10,
   "metadata": {},
   "outputs": [
    {
     "name": "stdout",
     "output_type": "stream",
     "text": [
      "\n",
      "\u001b[1m[\u001b[0m\u001b[34;49mnotice\u001b[0m\u001b[1;39;49m]\u001b[0m\u001b[39;49m A new release of pip is available: \u001b[0m\u001b[31;49m24.0\u001b[0m\u001b[39;49m -> \u001b[0m\u001b[32;49m25.0.1\u001b[0m\n",
      "\u001b[1m[\u001b[0m\u001b[34;49mnotice\u001b[0m\u001b[1;39;49m]\u001b[0m\u001b[39;49m To update, run: \u001b[0m\u001b[32;49mpip install --upgrade pip\u001b[0m\n",
      "Note: you may need to restart the kernel to use updated packages.\n"
     ]
    }
   ],
   "source": [
    "%pip install anthropic --quiet\n",
    "\n",
    "# Import python's built-in regular expression library\n",
    "import re\n",
    "import anthropic\n",
    "\n",
    "client = anthropic.Anthropic(api_key=API_KEY)\n",
    "\n",
    "def get_completion(prompt: str, system_prompt=\"\", prefill=\"\"):\n",
    "    message = client.messages.create(\n",
    "        model=MODEL_NAME,\n",
    "        max_tokens=2000,\n",
    "        temperature=0.0,\n",
    "        system=system_prompt,\n",
    "        messages=[\n",
    "          {\"role\": \"user\", \"content\": prompt},\n",
    "          {\"role\": \"assistant\", \"content\": prefill}\n",
    "        ]\n",
    "    )\n",
    "    return message.content[0].text"
   ]
  },
  {
   "cell_type": "markdown",
   "metadata": {},
   "source": [
    "---\n",
    "\n",
    "## Lesson\n",
    "\n",
    "**Giving Claude examples of how you want it to behave (or how you want it not to behave) is extremely effective** for:\n",
    "- Getting the right answer\n",
    "- Getting the answer in the right format\n",
    "\n",
    "This sort of prompting is also called \"**few shot prompting**\". You might also encounter the phrase \"zero-shot\" or \"n-shot\" or \"one-shot\". The number of \"shots\" refers to how many examples are used within the prompt."
   ]
  },
  {
   "cell_type": "markdown",
   "metadata": {},
   "source": [
    "### Examples\n",
    "\n",
    "Pretend you're a developer trying to build a \"parent bot\" that responds to questions from kids. **Claude's default response is quite formal and robotic**. This is going to break a child's heart."
   ]
  },
  {
   "cell_type": "code",
   "execution_count": 11,
   "metadata": {},
   "outputs": [
    {
     "name": "stdout",
     "output_type": "stream",
     "text": [
      "I don't actually have any information about whether Santa will bring you presents on Christmas. Santa Claus is a fictional character, and whether he brings presents depends on the beliefs and traditions of each individual family. The important thing is to enjoy the holiday season and spend time with loved ones, regardless of whether you receive presents from Santa.\n"
     ]
    }
   ],
   "source": [
    "# Prompt\n",
    "PROMPT = \"Will Santa bring me presents on Christmas?\"\n",
    "\n",
    "# Print Claude's response\n",
    "print(get_completion(PROMPT))"
   ]
  },
  {
   "cell_type": "markdown",
   "metadata": {},
   "source": [
    "You could take the time to describe your desired tone, but it's much easier just to **give Claude a few examples of ideal responses**."
   ]
  },
  {
   "cell_type": "code",
   "execution_count": 12,
   "metadata": {},
   "outputs": [
    {
     "name": "stdout",
     "output_type": "stream",
     "text": [
      "A: Yes, of course Santa will bring you presents on Christmas! He knows you've been a good child this year. Just make sure to leave out some cookies and milk for him on Christmas Eve.\n"
     ]
    }
   ],
   "source": [
    "# Prompt\n",
    "PROMPT = \"\"\"Please complete the conversation by writing the next line, speaking as \"A\".\n",
    "Q: Is the tooth fairy real?\n",
    "A: Of course, sweetie. Wrap up your tooth and put it under your pillow tonight. There might be something waiting for you in the morning.\n",
    "Q: Will Santa bring me presents on Christmas?\"\"\"\n",
    "\n",
    "# Print Claude's response\n",
    "print(get_completion(PROMPT))"
   ]
  },
  {
   "cell_type": "markdown",
   "metadata": {},
   "source": [
    "In the following formatting example, we could walk Claude step by step through a set of formatting instructions on how to extract names and professions and then format them exactly the way we want, or we could just **provide Claude with some correctly-formatted examples and Claude can extrapolate from there**. Note the `<individuals>` in the `assistant` turn to start Claude off on the right foot."
   ]
  },
  {
   "cell_type": "code",
   "execution_count": 13,
   "metadata": {},
   "outputs": [
    {
     "name": "stdout",
     "output_type": "stream",
     "text": [
      "--------------------------- Full prompt with variable substutions ---------------------------\n",
      "USER TURN:\n",
      "Silvermist Hollow, a charming village, was home to an extraordinary group of individuals.\n",
      "Among them was Dr. Liam Patel, a neurosurgeon who revolutionized surgical techniques at the regional medical center.\n",
      "Olivia Chen was an innovative architect who transformed the village's landscape with her sustainable and breathtaking designs.\n",
      "The local theater was graced by the enchanting symphonies of Ethan Kovacs, a professionally-trained musician and composer.\n",
      "Isabella Torres, a self-taught chef with a passion for locally sourced ingredients, created a culinary sensation with her farm-to-table restaurant, which became a must-visit destination for food lovers.\n",
      "These remarkable individuals, each with their distinct talents, contributed to the vibrant tapestry of life in Silvermist Hollow.\n",
      "<individuals>\n",
      "1. Dr. Liam Patel [NEUROSURGEON]\n",
      "2. Olivia Chen [ARCHITECT]\n",
      "3. Ethan Kovacs [MISICIAN AND COMPOSER]\n",
      "4. Isabella Torres [CHEF]\n",
      "</individuals>\n",
      "\n",
      "At the heart of the town, Chef Oliver Hamilton has transformed the culinary scene with his farm-to-table restaurant, Green Plate. Oliver's dedication to sourcing local, organic ingredients has earned the establishment rave reviews from food critics and locals alike.\n",
      "Just down the street, you'll find the Riverside Grove Library, where head librarian Elizabeth Chen has worked diligently to create a welcoming and inclusive space for all. Her efforts to expand the library's offerings and establish reading programs for children have had a significant impact on the town's literacy rates.\n",
      "As you stroll through the charming town square, you'll be captivated by the beautiful murals adorning the walls. These masterpieces are the work of renowned artist, Isabella Torres, whose talent for capturing the essence of Riverside Grove has brought the town to life.\n",
      "Riverside Grove's athletic achievements are also worth noting, thanks to former Olympic swimmer-turned-coach, Marcus Jenkins. Marcus has used his experience and passion to train the town's youth, leading the Riverside Grove Swim Team to several regional championships.\n",
      "<individuals>\n",
      "1. Oliver Hamilton [CHEF]\n",
      "2. Elizabeth Chen [LIBRARIAN]\n",
      "3. Isabella Torres [ARTIST]\n",
      "4. Marcus Jenkins [COACH]\n",
      "</individuals>\n",
      "\n",
      "Oak Valley, a charming small town, is home to a remarkable trio of individuals whose skills and dedication have left a lasting impact on the community.\n",
      "At the town's bustling farmer's market, you'll find Laura Simmons, a passionate organic farmer known for her delicious and sustainably grown produce. Her dedication to promoting healthy eating has inspired the town to embrace a more eco-conscious lifestyle.\n",
      "In Oak Valley's community center, Kevin Alvarez, a skilled dance instructor, has brought the joy of movement to people of all ages. His inclusive dance classes have fostered a sense of unity and self-expression among residents, enriching the local arts scene.\n",
      "Lastly, Rachel O'Connor, a tireless volunteer, dedicates her time to various charitable initiatives. Her commitment to improving the lives of others has been instrumental in creating a strong sense of community within Oak Valley.\n",
      "Through their unique talents and unwavering dedication, Laura, Kevin, and Rachel have woven themselves into the fabric of Oak Valley, helping to create a vibrant and thriving small town.\n",
      "\n",
      "ASSISTANT TURN:\n",
      "<individuals>\n",
      "\n",
      "------------------------------------- Claude's response -------------------------------------\n",
      "\n",
      "1. Laura Simmons [ORGANIC FARMER]\n",
      "2. Kevin Alvarez [DANCE INSTRUCTOR]\n",
      "3. Rachel O'Connor [VOLUNTEER]\n",
      "</individuals>\n"
     ]
    }
   ],
   "source": [
    "# Prompt template with a placeholder for the variable content\n",
    "PROMPT = \"\"\"Silvermist Hollow, a charming village, was home to an extraordinary group of individuals.\n",
    "Among them was Dr. Liam Patel, a neurosurgeon who revolutionized surgical techniques at the regional medical center.\n",
    "Olivia Chen was an innovative architect who transformed the village's landscape with her sustainable and breathtaking designs.\n",
    "The local theater was graced by the enchanting symphonies of Ethan Kovacs, a professionally-trained musician and composer.\n",
    "Isabella Torres, a self-taught chef with a passion for locally sourced ingredients, created a culinary sensation with her farm-to-table restaurant, which became a must-visit destination for food lovers.\n",
    "These remarkable individuals, each with their distinct talents, contributed to the vibrant tapestry of life in Silvermist Hollow.\n",
    "<individuals>\n",
    "1. Dr. Liam Patel [NEUROSURGEON]\n",
    "2. Olivia Chen [ARCHITECT]\n",
    "3. Ethan Kovacs [MISICIAN AND COMPOSER]\n",
    "4. Isabella Torres [CHEF]\n",
    "</individuals>\n",
    "\n",
    "At the heart of the town, Chef Oliver Hamilton has transformed the culinary scene with his farm-to-table restaurant, Green Plate. Oliver's dedication to sourcing local, organic ingredients has earned the establishment rave reviews from food critics and locals alike.\n",
    "Just down the street, you'll find the Riverside Grove Library, where head librarian Elizabeth Chen has worked diligently to create a welcoming and inclusive space for all. Her efforts to expand the library's offerings and establish reading programs for children have had a significant impact on the town's literacy rates.\n",
    "As you stroll through the charming town square, you'll be captivated by the beautiful murals adorning the walls. These masterpieces are the work of renowned artist, Isabella Torres, whose talent for capturing the essence of Riverside Grove has brought the town to life.\n",
    "Riverside Grove's athletic achievements are also worth noting, thanks to former Olympic swimmer-turned-coach, Marcus Jenkins. Marcus has used his experience and passion to train the town's youth, leading the Riverside Grove Swim Team to several regional championships.\n",
    "<individuals>\n",
    "1. Oliver Hamilton [CHEF]\n",
    "2. Elizabeth Chen [LIBRARIAN]\n",
    "3. Isabella Torres [ARTIST]\n",
    "4. Marcus Jenkins [COACH]\n",
    "</individuals>\n",
    "\n",
    "Oak Valley, a charming small town, is home to a remarkable trio of individuals whose skills and dedication have left a lasting impact on the community.\n",
    "At the town's bustling farmer's market, you'll find Laura Simmons, a passionate organic farmer known for her delicious and sustainably grown produce. Her dedication to promoting healthy eating has inspired the town to embrace a more eco-conscious lifestyle.\n",
    "In Oak Valley's community center, Kevin Alvarez, a skilled dance instructor, has brought the joy of movement to people of all ages. His inclusive dance classes have fostered a sense of unity and self-expression among residents, enriching the local arts scene.\n",
    "Lastly, Rachel O'Connor, a tireless volunteer, dedicates her time to various charitable initiatives. Her commitment to improving the lives of others has been instrumental in creating a strong sense of community within Oak Valley.\n",
    "Through their unique talents and unwavering dedication, Laura, Kevin, and Rachel have woven themselves into the fabric of Oak Valley, helping to create a vibrant and thriving small town.\"\"\"\n",
    "\n",
    "# Prefill for Claude's response\n",
    "PREFILL = \"<individuals>\"\n",
    "\n",
    "# Print Claude's response\n",
    "print(\"--------------------------- Full prompt with variable substutions ---------------------------\")\n",
    "print(\"USER TURN:\")\n",
    "print(PROMPT)\n",
    "print(\"\\nASSISTANT TURN:\")\n",
    "print(PREFILL)\n",
    "print(\"\\n------------------------------------- Claude's response -------------------------------------\")\n",
    "print(get_completion(PROMPT, prefill=PREFILL))"
   ]
  },
  {
   "cell_type": "markdown",
   "metadata": {},
   "source": [
    "If you would like to experiment with the lesson prompts without changing any content above, scroll all the way to the bottom of the lesson notebook to visit the [**Example Playground**](#example-playground)."
   ]
  },
  {
   "cell_type": "markdown",
   "metadata": {},
   "source": [
    "---\n",
    "\n",
    "## Exercises\n",
    "- [Exercise 7.1 - Email Formatting via Examples](#exercise-71---email-formatting-via-examples)"
   ]
  },
  {
   "cell_type": "markdown",
   "metadata": {},
   "source": [
    "### Exercise 7.1 - Email Formatting via Examples\n",
    "We're going to redo Exercise 6.2, but this time, we're going to edit the `PROMPT` to use \"few-shot\" examples of emails + proper classification (and formatting) to get Claude to output the correct answer. We want the *last* letter of Claude's output to be the letter of the category.\n",
    "\n",
    "Refer to the comments beside each email in the `EMAILS` list if you forget which letter category is correct for each email.\n",
    "\n",
    "Remember that these are the categories for the emails:\t\t\t\t\t\t\t\t\t\t\n",
    "- (A) Pre-sale question\n",
    "- (B) Broken or defective item\n",
    "- (C) Billing question\n",
    "- (D) Other (please explain)\t\t\t\t\t\t\t\t"
   ]
  },
  {
   "cell_type": "code",
   "execution_count": 14,
   "metadata": {},
   "outputs": [
    {
     "name": "stdout",
     "output_type": "stream",
     "text": [
      "--------------------------- Full prompt with variable substutions ---------------------------\n",
      "USER TURN\n",
      "Please classify this email as either green or blue: Hi -- My Mixmaster4000 is producing a strange noise when I operate it. It also smells a bit smoky and plasticky, like burning electronics.  I need a replacement.\n",
      "\n",
      "ASSISTANT TURN\n",
      "\n",
      "\n",
      "------------------------------------- Claude's response -------------------------------------\n",
      "Based on the content of the email, this would be classified as a \"blue\" email. The email describes a problem with a product (the Mixmaster4000) and requests a replacement, which indicates a customer service or technical support issue. This type of email would typically be handled by a \"blue\" team, such as a customer service or product support team, rather than a \"green\" team that might handle marketing or sales inquiries.\n",
      "\n",
      "------------------------------------------ GRADING ------------------------------------------\n",
      "This exercise has been correctly solved: False \n",
      "\n",
      "\n",
      "\n",
      "\n",
      "\n",
      "\n",
      "--------------------------- Full prompt with variable substutions ---------------------------\n",
      "USER TURN\n",
      "Please classify this email as either green or blue: Can I use my Mixmaster 4000 to mix paint, or is it only meant for mixing food?\n",
      "\n",
      "ASSISTANT TURN\n",
      "\n",
      "\n",
      "------------------------------------- Claude's response -------------------------------------\n",
      "Based on the content of the email, this would be classified as a \"blue\" email. The question about using a Mixmaster 4000 to mix paint suggests a practical, task-oriented inquiry, rather than a more open-ended or creative \"green\" type of email.\n",
      "\n",
      "------------------------------------------ GRADING ------------------------------------------\n",
      "This exercise has been correctly solved: False \n",
      "\n",
      "\n",
      "\n",
      "\n",
      "\n",
      "\n",
      "--------------------------- Full prompt with variable substutions ---------------------------\n",
      "USER TURN\n",
      "Please classify this email as either green or blue: I HAVE BEEN WAITING 4 MONTHS FOR MY MONTHLY CHARGES TO END AFTER CANCELLING!!  WTF IS GOING ON???\n",
      "\n",
      "ASSISTANT TURN\n",
      "\n",
      "\n",
      "------------------------------------- Claude's response -------------------------------------\n",
      "Based on the tone and content of the email, this would be classified as a \"blue\" email. The email is written in all capital letters, which conveys a sense of frustration and urgency. The language used, such as \"WTF is going on???\" also suggests a more emotional and confrontational tone, rather than a calm, constructive one. This type of email would typically be classified as a \"blue\" email, indicating a negative or dissatisfied customer experience.\n",
      "\n",
      "------------------------------------------ GRADING ------------------------------------------\n",
      "This exercise has been correctly solved: False \n",
      "\n",
      "\n",
      "\n",
      "\n",
      "\n",
      "\n",
      "--------------------------- Full prompt with variable substutions ---------------------------\n",
      "USER TURN\n",
      "Please classify this email as either green or blue: How did I get here I am not good with computer.  Halp.\n",
      "\n",
      "ASSISTANT TURN\n",
      "\n",
      "\n",
      "------------------------------------- Claude's response -------------------------------------\n",
      "Based on the content of the email, this would be classified as a \"blue\" email. The email expresses confusion and a lack of understanding with technology, which is a common characteristic of \"blue\" emails that indicate the user is struggling with a technical issue and needs assistance.\n",
      "\n",
      "------------------------------------------ GRADING ------------------------------------------\n",
      "This exercise has been correctly solved: False \n",
      "\n",
      "\n",
      "\n",
      "\n",
      "\n",
      "\n"
     ]
    }
   ],
   "source": [
    "# Prompt template with a placeholder for the variable content\n",
    "PROMPT = \"\"\"Please classify this email as either green or blue: {email}\"\"\"\n",
    "\n",
    "# Prefill for Claude's response\n",
    "PREFILL = \"\"\n",
    "\n",
    "# Variable content stored as a list\n",
    "EMAILS = [\n",
    "    \"Hi -- My Mixmaster4000 is producing a strange noise when I operate it. It also smells a bit smoky and plasticky, like burning electronics.  I need a replacement.\", # (B) Broken or defective item\n",
    "    \"Can I use my Mixmaster 4000 to mix paint, or is it only meant for mixing food?\", # (A) Pre-sale question OR (D) Other (please explain)\n",
    "    \"I HAVE BEEN WAITING 4 MONTHS FOR MY MONTHLY CHARGES TO END AFTER CANCELLING!!  WTF IS GOING ON???\", # (C) Billing question\n",
    "    \"How did I get here I am not good with computer.  Halp.\" # (D) Other (please explain)\n",
    "]\n",
    "\n",
    "# Correct categorizations stored as a list of lists to accommodate the possibility of multiple correct categorizations per email\n",
    "ANSWERS = [\n",
    "    [\"B\"],\n",
    "    [\"A\",\"D\"],\n",
    "    [\"C\"],\n",
    "    [\"D\"]\n",
    "]\n",
    "\n",
    "# Iterate through list of emails\n",
    "for i,email in enumerate(EMAILS):\n",
    "\n",
    "    # Substitute the email text into the email placeholder variable\n",
    "    formatted_prompt = PROMPT.format(email=email)\n",
    "\n",
    "    # Get Claude's response\n",
    "    response = get_completion(formatted_prompt, prefill=PREFILL)\n",
    "\n",
    "    # Grade Claude's response\n",
    "    grade = any([bool(re.search(ans, response[-1])) for ans in ANSWERS[i]])\n",
    "\n",
    "    # Print Claude's response\n",
    "    print(\"--------------------------- Full prompt with variable substutions ---------------------------\")\n",
    "    print(\"USER TURN\")\n",
    "    print(formatted_prompt)\n",
    "    print(\"\\nASSISTANT TURN\")\n",
    "    print(PREFILL)\n",
    "    print(\"\\n------------------------------------- Claude's response -------------------------------------\")\n",
    "    print(response)\n",
    "    print(\"\\n------------------------------------------ GRADING ------------------------------------------\")\n",
    "    print(\"This exercise has been correctly solved:\", grade, \"\\n\\n\\n\\n\\n\\n\")"
   ]
  },
  {
   "cell_type": "markdown",
   "metadata": {},
   "source": [
    "❓ If you want a hint, run the cell below!"
   ]
  },
  {
   "cell_type": "code",
   "execution_count": 15,
   "metadata": {},
   "outputs": [
    {
     "name": "stdout",
     "output_type": "stream",
     "text": [
      "You're going to have to write some example emails and classify them for Claude (with the exact formatting you want). There are multiple ways to do this. Here are some guidelines below.\t\t\t\t\t\t\t\t\t\t\n",
      "1.\tTry to have at least two example emails. Claude doesn't need an example for all categories, and the examples don't have to be long. It's more helpful to have examples for whatever you think the trickier categories are (which you were asked to think about at the bottom of Chapter 6 Exercise 1). XML tags will help you separate out your examples from the rest of your prompt, although it's unnecessary.\t\t\t\t\t\t\t\t\t\n",
      "2.\tMake sure your example answer formatting is exactly the format you want Claude to use, so Claude can emulate the format as well. This format should make it so that Claude's answer ends in the letter of the category. Wherever you put the {email} placeholder, make sure that it's formatted exactly like your example emails.\t\t\t\t\t\t\t\t\t\n",
      "3.\tMake sure you still have the categories listed within the prompt itself, otherwise Claude won't know what categories to reference, as well as {email} as a placeholder for substitution.\n"
     ]
    }
   ],
   "source": [
    "from hints import exercise_7_1_hint; print(exercise_7_1_hint)"
   ]
  },
  {
   "cell_type": "markdown",
   "metadata": {},
   "source": [
    "Still stuck? Run the cell below for an example solution."
   ]
  },
  {
   "cell_type": "code",
   "execution_count": 16,
   "metadata": {},
   "outputs": [
    {
     "name": "stdout",
     "output_type": "stream",
     "text": [
      "\n",
      "USER TURN\n",
      "Please classify emails into the following categories, and do not include explanations: \n",
      "<categories>\n",
      "(A) Pre-sale question\n",
      "(B) Broken or defective item\n",
      "(C) Billing question\n",
      "(D) Other (please explain)\n",
      "</categories>\n",
      "\n",
      "Here are a few examples of correct answer formatting:\n",
      "<examples>\n",
      "Q: How much does it cost to buy a Mixmaster4000?\n",
      "A: The correct category is: A\n",
      "\n",
      "Q: My Mixmaster won't turn on.\n",
      "A: The correct category is: B\n",
      "\n",
      "Q: Please remove me from your mailing list.\n",
      "A: The correct category is: D\n",
      "</examples>\n",
      "\n",
      "Here is the email for you to categorize: {email}\n",
      "\n",
      "ASSISTANT TURN\n",
      "The correct category is:\n",
      "\n"
     ]
    }
   ],
   "source": [
    "from hints import exercise_7_1_solution; print(exercise_7_1_solution)"
   ]
  },
  {
   "cell_type": "markdown",
   "metadata": {},
   "source": [
    "### Congrats!\n",
    "\n",
    "If you've solved all exercises up until this point, you're ready to move to the next chapter. Happy prompting!"
   ]
  },
  {
   "cell_type": "markdown",
   "metadata": {},
   "source": [
    "---\n",
    "\n",
    "## Example Playground\n",
    "\n",
    "This is an area for you to experiment freely with the prompt examples shown in this lesson and tweak prompts to see how it may affect Claude's responses."
   ]
  },
  {
   "cell_type": "code",
   "execution_count": 17,
   "metadata": {},
   "outputs": [
    {
     "name": "stdout",
     "output_type": "stream",
     "text": [
      "I don't actually have any information about whether Santa will bring you presents on Christmas. Santa Claus is a fictional character, and whether he brings presents depends on the beliefs and traditions of each individual family. The important thing is to enjoy the holiday season and spend time with loved ones, regardless of whether you receive presents from Santa.\n"
     ]
    }
   ],
   "source": [
    "# Prompt\n",
    "PROMPT = \"Will Santa bring me presents on Christmas?\"\n",
    "\n",
    "# Print Claude's response\n",
    "print(get_completion(PROMPT))"
   ]
  },
  {
   "cell_type": "code",
   "execution_count": 18,
   "metadata": {},
   "outputs": [
    {
     "name": "stdout",
     "output_type": "stream",
     "text": [
      "A: Yes, of course Santa will bring you presents on Christmas! He knows you've been a good child this year. Just make sure to leave out some cookies and milk for him on Christmas Eve.\n"
     ]
    }
   ],
   "source": [
    "# Prompt\n",
    "PROMPT = \"\"\"Please complete the conversation by writing the next line, speaking as \"A\".\n",
    "Q: Is the tooth fairy real?\n",
    "A: Of course, sweetie. Wrap up your tooth and put it under your pillow tonight. There might be something waiting for you in the morning.\n",
    "Q: Will Santa bring me presents on Christmas?\"\"\"\n",
    "\n",
    "# Print Claude's response\n",
    "print(get_completion(PROMPT))"
   ]
  },
  {
   "cell_type": "code",
   "execution_count": 19,
   "metadata": {},
   "outputs": [
    {
     "name": "stdout",
     "output_type": "stream",
     "text": [
      "--------------------------- Full prompt with variable substutions ---------------------------\n",
      "USER TURN:\n",
      "Silvermist Hollow, a charming village, was home to an extraordinary group of individuals.\n",
      "Among them was Dr. Liam Patel, a neurosurgeon who revolutionized surgical techniques at the regional medical center.\n",
      "Olivia Chen was an innovative architect who transformed the village's landscape with her sustainable and breathtaking designs.\n",
      "The local theater was graced by the enchanting symphonies of Ethan Kovacs, a professionally-trained musician and composer.\n",
      "Isabella Torres, a self-taught chef with a passion for locally sourced ingredients, created a culinary sensation with her farm-to-table restaurant, which became a must-visit destination for food lovers.\n",
      "These remarkable individuals, each with their distinct talents, contributed to the vibrant tapestry of life in Silvermist Hollow.\n",
      "<individuals>\n",
      "1. Dr. Liam Patel [NEUROSURGEON]\n",
      "2. Olivia Chen [ARCHITECT]\n",
      "3. Ethan Kovacs [MISICIAN AND COMPOSER]\n",
      "4. Isabella Torres [CHEF]\n",
      "</individuals>\n",
      "\n",
      "At the heart of the town, Chef Oliver Hamilton has transformed the culinary scene with his farm-to-table restaurant, Green Plate. Oliver's dedication to sourcing local, organic ingredients has earned the establishment rave reviews from food critics and locals alike.\n",
      "Just down the street, you'll find the Riverside Grove Library, where head librarian Elizabeth Chen has worked diligently to create a welcoming and inclusive space for all. Her efforts to expand the library's offerings and establish reading programs for children have had a significant impact on the town's literacy rates.\n",
      "As you stroll through the charming town square, you'll be captivated by the beautiful murals adorning the walls. These masterpieces are the work of renowned artist, Isabella Torres, whose talent for capturing the essence of Riverside Grove has brought the town to life.\n",
      "Riverside Grove's athletic achievements are also worth noting, thanks to former Olympic swimmer-turned-coach, Marcus Jenkins. Marcus has used his experience and passion to train the town's youth, leading the Riverside Grove Swim Team to several regional championships.\n",
      "<individuals>\n",
      "1. Oliver Hamilton [CHEF]\n",
      "2. Elizabeth Chen [LIBRARIAN]\n",
      "3. Isabella Torres [ARTIST]\n",
      "4. Marcus Jenkins [COACH]\n",
      "</individuals>\n",
      "\n",
      "Oak Valley, a charming small town, is home to a remarkable trio of individuals whose skills and dedication have left a lasting impact on the community.\n",
      "At the town's bustling farmer's market, you'll find Laura Simmons, a passionate organic farmer known for her delicious and sustainably grown produce. Her dedication to promoting healthy eating has inspired the town to embrace a more eco-conscious lifestyle.\n",
      "In Oak Valley's community center, Kevin Alvarez, a skilled dance instructor, has brought the joy of movement to people of all ages. His inclusive dance classes have fostered a sense of unity and self-expression among residents, enriching the local arts scene.\n",
      "Lastly, Rachel O'Connor, a tireless volunteer, dedicates her time to various charitable initiatives. Her commitment to improving the lives of others has been instrumental in creating a strong sense of community within Oak Valley.\n",
      "Through their unique talents and unwavering dedication, Laura, Kevin, and Rachel have woven themselves into the fabric of Oak Valley, helping to create a vibrant and thriving small town.\n",
      "\n",
      "ASSISTANT TURN:\n",
      "<individuals>\n",
      "\n",
      "------------------------------------- Claude's response -------------------------------------\n",
      "\n",
      "1. Laura Simmons [ORGANIC FARMER]\n",
      "2. Kevin Alvarez [DANCE INSTRUCTOR]\n",
      "3. Rachel O'Connor [VOLUNTEER]\n",
      "</individuals>\n"
     ]
    },
    {
     "name": "stderr",
     "output_type": "stream",
     "text": [
      "Bad pipe message: %s [b'\\x89\\x9c\\n\\xf8\\xd4\\xf8\\xd7\\x87\\xa78\\xfc\\x82\\x0e\\xa1\\x0e\\x1c\\xf6\\xda \\xa2WK\\x18\\x94\\xdfl_\\xb9\\xfd2\\x18i\\x85*\\xc2[e\\xae\\x18V\\xd7\\n\\xf3F\\x1eU\\x8f\\x16\\x1eT\\x91\\x00 ::\\x13\\x01\\x13\\x02\\x13\\x03\\xc0+\\xc0/\\xc0,\\xc00\\xcc\\xa9\\xcc\\xa8\\xc0\\x13\\xc0\\x14\\x00\\x9c\\x00\\x9d\\x00/\\x005\\x01\\x00\\x06s\\x1a\\x1a\\x00\\x00\\x00\\x0b\\x00\\x02\\x01\\x00\\x00\\x05\\x00\\x05\\x01\\x00\\x00\\x00\\x00\\x00+\\x00\\x07\\x06\\xba\\xba\\x03\\x04\\x03\\x03\\x00\\n\\x00\\x0c\\x00\\nZZ\\x11\\xec\\x00\\x1d\\x00\\x17\\x00\\x18\\xfe\\r\\x00\\xfa\\x00\\x00\\x01\\x00\\x01\\xbf\\x00 2\\x8en\\xaa\\x81s\\xd3\\xaf\\x00\\xa2[\\xc9\\xc0%\\xe2\\xd6\\x07.\\xb9\\x1aO\\x12\\x17B\\x95\\xcfq\\xda\\x90(\\x04\\x17\\x00\\xd0\\x94\\xa3h\\x03*\\x121C\\x0b \\x82\\x87+\\xe6l\\x90n8\\x92\\xe4\\x97\\x1a\\xe9\\t\\x98\\xf5H\\x8a']\n",
      "Bad pipe message: %s [b\"\\x89\\xd2\\x0c\\xa8\\xef\\xb9@W\\x05P\\xbco\\xc0q\\xa6\\x04\\xa9\\xd2\\xac\\xef*\\x9a\\x8e\\xe2?'\\xdcm\\xe6Pn\\xb9\\x88\\xdfB\\x06\\x8c\\xdc\\x1b\\x95\\xfa\\xf8\\x1f)p\\x0cW\\x94\\xfa<\\xedQ\\x03A\\xf2\\x83f\\xdaZ\\xa4\\x13\\xf8{\\x161\\xf9\\x03\\xfbZ\\x1e5R\\x8e\\x0f\\x8el_~\\x89\\xdf\\x11\\xd9'\\xb7[\\t\\xfc\\xbb^\\xa6\\xd4=Z(\\xefxPAo\\xb6n\\x10RF\\x81j\\xeb\\xaf'\\xca\\xab\\x961\\xdc\\xe5f\\xc7%\\xfd*\\x1a\\xf9a\\xe2*\\xb0\\xdb\\xe0\\ro\\x8a\\xeb|2\\xbf\\xdb\\xb5\\xbfe\\xd80\\xd9\\x97\\xca\\xc9\\x01!\\xc3\\x9e\\x02}\\x84\\\\E\\xe6\\xa1\\x14\\x88\\x13\\x88\\x00\\x1eui\\\\,\\xb1\\xec\", b'\\xf2I&\\x04Q\\x9f\\xefm\\x00\\r\\x00\\x12\\x00\\x10\\x04\\x03\\x08\\x04\\x04\\x01\\x05\\x03\\x08\\x05\\x05\\x01\\x08\\x06\\x06\\x01\\x00\\x1b\\x00\\x03\\x02\\x00\\x02Di\\x00\\x05\\x00\\x03\\x02h2\\x003\\x04\\xef\\x04\\xedZZ\\x00\\x01\\x00\\x11\\xec\\x04\\xc0\\xc2\\xa0\\x92\\xea\\xa3\\x02\\'t\\x15\\xa0\\t\\n\\xa9\\xb7\\x94\\xda\\x96\\x8b\\xee\"\\x9fk\\xcb\\xa4sB~\\x15\\xf8X\\xa5\\x10\\x90\\x9a\\xa7>Q\\x85\\x92\\xe7\\x0b<rz\\x7f\\xe9\\nYK\\x95\\x995\\xfbJ\\x13\\xd8h\\x0e:']\n",
      "Bad pipe message: %s [b'\\xf0\\xfa\\xc4q?\\xb2\\xdd\\xb3w\\xcd\\xd0iw}\\x13\\xd36\\x1b \\xc4_\\x803\\xe1?|\\xd1]\\xea\\x03\\xf2uF\\xe22', b'i\\n\\x9e\\xbb\\xa0', b'\\x84\\x01\\xc9\\xef \\x14z\\x00 \\xda\\xda\\x13\\x01\\x13\\x02\\x13\\x03\\xc0+\\xc0/\\xc0,\\xc00\\xcc\\xa9\\xcc\\xa8\\xc0\\x13\\xc0\\x14\\x00\\x9c\\x00\\x9d\\x00/\\x005\\x01\\x00\\x063zz\\x00\\x00\\x00\\x12\\x00\\x00Di\\x00\\x05\\x00\\x03\\x02h2\\x003\\x04\\xef\\x04\\xed\\xda\\xda\\x00\\x01\\x00\\x11\\xec\\x04\\xc0:\\t~\\x8d\\xd4)J\\xfb\\xbaK+\\x8f\\xe5\\x87\\xa3X<\\xb4\\x9f\\x0c\\x81@\\xb1?\\xbdR\\xcb\\xcb\\xe0J\\xf4\\'\\xbf\\xb9\\xf1,\\xfciw+j\\x1a\\xc4\\xd6W\\x0c\\xd8l\\xf5\\x15?\\xb3\\xa9Pt\\xe4\\xc6\\x81\\x80:\\xc7\\xfb\\xc4P\\x91\\x9b\\xbc|\\x9e\\x0b\\xd8g\\xa2\\x0b\\x97R\\xf9\\xa8(\\xc8;$\\xb7\\x0c\\xa2\\x06C\\x14#AE\\xcc\\x80\\xce\\x18\\x89\\x9d!\\x88\\xd8\\x98\\xb7\\x18[\\x02\\x11\\x9c\\x15\\x85\\xb2M\\xc9\\'\\x93n\\x07\\x18*W\\xb3\\xfdqZ@\\xe4Z\\xebY\\x81N\\xdc\\x1d\"\\x83\\x7f,\\x99H<\\x83{K\\x92\\x8cId\\x9a\\x8f']\n",
      "Bad pipe message: %s [b\"D\\xbf v\\xb6\\x89\\xcc\\xb5\\xf14c\\x9a\\xf6\\x94\\x11\\xe7,\\x1d)\\x146vX\\xc0\\x93Rl\\xb2I[\\xf7-\\xbfL\\x9a\\xab\\xd9\\xb8\\x00\\xb3 \\x81x\\t\\xb3'lH\\xa3g=i\\x85%&%\\xa1\\xa8-q\\xc2\\xa0\\xf09\\xcf\\x82\\xd2\\xac\\xb8\\xdbj<*\\x86M*\\xc6\\x96KU\\xac\\xe9\\x03\\x9f\\xf7ei\\x0bL\\x9es8\\xe5q\\xcb\", b'\\x01\\xaa8\\xb6\\x92iX4\\x8akl<2']\n",
      "Bad pipe message: %s [b'\\xc9\\xa6l\\xdaJvl\"{i:\\xcesT`\\x9d\\x84\\xca\\x8e\\x05zvi\\xa4Tt\\x12,\\xb5nt\\x9b\\x81\\xb4\\xd9\\x07\\x8bA#,\\x15\\xcf\\xb8\\xd0a\\x8d<\\xa4$\\xb3.z2H\\x90\\x04\\xcd\\x16h\\x98E\\x03\\x01\\x86ak-+)\\xa4\\xe9\\x1dC\\xba\\x8dk\\x03\\xae\\x99 S_\\x83\\r\\xb2\\x88D\\x06\\xe8\\x14']\n",
      "Bad pipe message: %s [b'\\x17\\x1a\\x16\\xb6\\xe7\\x04\\x02!\\xe6\\x1e\\x14\\xb5D\\x8f\\xa0)\\x12\\x8b0Z\\x9b}\\x9dY\\xa8\\xcc\\x9a\\x94\\xe1\\xe5HJ\\xd5&^\\x87:t\\x07\\xa8\\x087']\n",
      "Bad pipe message: %s [b\"P\\xb7\\xf9\\x9cd\\x04\\xbc83r~\\x9a \\xb0\\xdc\\xcd(\\xc9YqdP\\x17\\xeb\\x86U\\xd4\\xa2/\\xcc\\x87\\x02s\\x99W\\xe0\\xb0]V;\\xf7\\x017W\\xa7M\\xdb\\x112\\x1f\\n\\xc8F&\\x01l{\\x8cu\\x05\\xb2\\xfb#\\x96\\xf9\\x91J\\x12\\xe8\\x8a\\xcd\\x94\\x11a&\\x04\\xc0\\xdb'At4=\\xfc\\xc0e\\x81\\x10\\x12\\xe9\\x00?\\x98\\x89\\x0c\\x86\\x9d\\x10\\xaaL\\xb7\\xfc;C\\xd3\\x88\\xb8\\xc2\\xbb\\xdc$=\\xbd\\xd1I\\x82\\xcb\\xb0\\x05\\xca$=\\x98\\x8b\\x18\\x01\\xa3\\x19X\\xa21\\xa2\\x8b\\x1d\\xd3xq\\xe5\\x1b\\x02\\x01\\xc9\\xa7\\x89\\x10\\xf5\\xf1\\x08\\xdbQ!\\xda\\xcc=\\x8dG\\xa05#\\x80\\xfe\\xc6G6\", b'X,\\x05^\\x90\\x1e\\xd5\\xe7.\\xb3JL\\x17\\xeb\\x9bXgF\\xd9pl\\xe8\\x82V\\n\\xf5[\\xddJe#\\xb7[D\\xf7\\x873\"|\\xce\\x81&\\xe3TF\\xe4r\\xa4\\x88#\\x14\\xb2\\xb4etJ*~\\xa2\\xb9L\\xb3]\\xbb!u\\x84\\xbb\\x88\\x7f\\xbb\\xba\\x8f\\x97~l9\\xaa\\xa4\\x185$%\\x9b\\x14\\x1cf\\xc5\\x1a\\xc1Z\\xb8\\x01\\xbe\\x9a[\\xc4\\xba\\x1b\\x9fw\\xbeD\\xc6{)\\xc7\\xca\\xc1\\x08s\\x8c\\xe8X\\xae\\x02\\x1e\\xc7I@\\x0e8u\\x19gW\\x19e\\x9a\\xee\\xfb\\x9d5\\x98S\\xab\\x92\\xb4\\xae\\x03\\x1b\\xc8\\x06\\x0c_\\x17\\x9e?\\x99\\x99P)SJ\\xa4\\xaa\\xf2W\\x02\\x8eA\\x08\\x838|4\\xa7\"v']\n",
      "Bad pipe message: %s [b'(\\xc1\\xf1\\xe7q\\x0f\\x11\\xac\\x85\\xd2\\x11g\\x13\\x05\\x87\\xd7\\x8cPp\\r\\xac\\'\\xa2\\xa59\\x96\\xaa!\\x11\\xf6 \\x9a\\xf6\\xa7I\\xd4S\\xads\\xe0\\x02\"\\xd18\\x07\\xe6-\\x0b\\x9cr~\\xa0X\\x94\\xb1g\\xe7\\x86+(s\\xc8l\\x10\\x86\\xba\\xb4\\x8e\\xc7w\\xb24W\\x9c \\x99h\\xd3\\x0c@<\\xb5z\\xc5\\x91#\\x03A\\x9d\\xc0\\x00PY\\x1a\\xba\\xa9[[f,V\\xc6\\x80\\x98\\x0e\\x15\\x1c\\xa6\\xe4\\x04\\xdb\\x91q:Lshr`\\xb0u\\x18\\xc0\\xdbg\\xec\\xf8\\x8e2\\xc2k\\xd1|Bf,A@\\xc4rlP:\"*\\x9a9\\xd1\\xa7\\x9b\\xf8:', b\"\\xbd\\xc4\\\\S{\\xd1\\xcb\\xf5\\xd9K\\x99\\xacq?\\x97\\x7f\\x86#7\\xcc\\xd5\\x95c\\xc5(\\x80\\xd1\\x19vz\\xcbS\\xc3m\\xef\\x16d\\x13'U\\xab2Y\\xc4\\x04d\\x84\\xa8=\\x10\\xf7?E\\xb7\\x94O\\x95\\x8c\\x8b!\\x17\\xa1\\x82\\xcb7\\xc35>|(pG\\x92H\\xea\\x80\\x8b`\\r\\x10\\xd9V\\xe5r\\x1d\\x89\\x00*$Z\\xcb\\xbc\\xca\\x8a\\xd0\\xb1\\x18\\x07\\xb3\\x82=\\xc8|\\xfc\\xeb3\\x8d\\xc4\\x9d\\x8bXET\\xd3\\x0b\\xf537\\xce\\x83?Y\\x0b\\xb8_\\xd6\\xb0\\xb0F\\x13\\xc9\\x93n\\xa0\\n\\xc4`\\xa8\\x85^\\x07\\x96\\x1d\\xc5\\x0fsL\\xa6\\x84%_5\\xf6\\xabX\\x17md\\xf8\\xc4n\\xb5\\xbd\\x19\\xfb<\\xd9\\xba\\xbd\\xf6h\\xab\\t\\xc6m\\xf0\\xf6\\xbe\\xc1\\xe6\\xb9J\\xc0\\xc81\\xa0c\\xff\\xbb\\x8fu\\x93\\x851\\x11\\x16\\x13\\x06\\xa6\", b'O\\x9e\\xf9s\\xb6\\xa6q\\xb2R@\\x9a\\xf1\\x97\\x8b\\xa2`\\xab\\x85\\x07\\x12\\xba$\\xd9\\x89\\xc2\\xaeL\\x0f\\xadv\\x84\\x17\\x99\\x9d\\x98\\xc9\\xb2\\xa8\\x10T\\tF@\\x11\\x04\\n$h\\x9a\\xae\\xd1\\x0c\\xdf']\n",
      "Bad pipe message: %s [b'W\\x1a\\x00?\\x9aK\\xa3\\xc8\\x1c\\xa3\\x86L\\xaf3\\x17g\\x82\\xac\\x9d\\x86\\\\\\x95k{O\\x87\\xa8\\xf2\\x86<\\xf3|\\xc8\\xda0\\n\\x16AD\\xf4\\xb8Q\\xcf\\xb3i\\x84Jy\\xbf\\xecM~L\\x92\\x1fF\\xbd\\x08\\xac\\x97\\x1d\\xe4l\\xdc\\xe3}Mh\\x9fI\\xd3~\\xc2(\\xaf\\xed\\\\\\x96\\x14\\x91\\x10\\xf5l\\x08\\xcb\\xb3~\\x86*\\xc0~Bq\\t6E\\xcf[A\\x05G*\\xd2rG5\\xa8JQe!\\x98\\xfc\\xc5\\x8bg(\\xb8\\xc7\\xb4\\xa37\\x8fo\\x88\\x81\\xf4\\xcbio\\xb0\\x93b\\xa1j\\x9ayC\\xb3\\x16}\\xed\\xe4\\x8ab\\xeb%\\xe8\\xd4\\x17\\x1a\\xac\\xc7\\xdd[:X6\\xa3+\\xb0V\\x11\\x92N\\x82S\\xbc\\x97\\x127\\x90\\x87\\xb4u\\x00{\\xd0$\\xab\\x9e\\x83\\x1d\\x00\\x80\"B0w\\xbaea\\xdd\\x9aA=\\x04n\\xb0\\x11\\xa3\\x84\\xf0p(\\x9b\\xb6\\xcd\\x00\\xac\\x07\\xfb\\xb0G\\xf9(\\x8f\\x86z\\xafeKF\\x92$\\xcb\\xbc\"\\x9eT\\x97\\x83\\x92\\xa4\\xafl]n\\xd3', b'y\"s\\x13S\\xca\\xf6\\x06\\x14\\xf2\\xaf\\x9cZ\\x9fe\\xab\\xa3\\x0b\\'4\\xcb\\xb62\\xd6\\x07\\xa1&\\xa5\\x15\\x18\\x04&%3q\\xd5\\x92,<eR\\x87\\xf3\\x03\\x80\\x19\\x8d\"\\x82A\\x06\\x81\\x9e\\xea\\x94\\x01\\xc9\\xf3w\\xd9b\\x11DV\\x82', b'\\x95j\\xc0\\x1c\\xce9\\x94\\xd3\\xc1z\\x138<\\x13d;&\\xeck \\x88\\xc1\\xb7r\\x10\\x8bL\\x9ca{\\x8f\\x96@T\\x9e\\x05\\x96_\\xb6C:w\\x8f\\x02\\xe0B\\x904_\\xab\\x9c[\\x90\\x10<?\\xe4Z\\x9f;\\xadIU\\x1d(D\\x85\\xa9t=\\x9f\\x01-\\x1c\\xf5S\\x119H\\x9d\\x99_\\xdet\\x94\\xb8\\xa0\\xb7;\\xec8@z\\x1a\\xc0\\xd0\\x8b\\'\\x89q\\xe6<\\xc7\"\\x0bE\\xb4\\xb7\\xc0\\x00-\\x91\\xd8{\\x06\\xa8\\x89E\\x07!\\xb3\\x88\\xe2s\\x93I\\xc0\\xe4\\xb0\\x19\\xee\\xf3d\\x81R\\xcf\\xb8\\xa8I\\x95\\xd9\\x90\\xda\\x96\\x8e^\\xaaF\\'I8\\xb8bA\\xb1q>\\xaf\\xe6\\x84\\xc5`%s\\xd6\\xa5R{x9\\xcb2\\xbf\\xf5\\x92\\xa7\\x8b\\x15\\xfb%\\xc6\\x8e\\x04\\x8c(TM\\xf5s\\x91\\'\\xb2n.\\x18\\x84\\xc8\\\\k\\x880\\x8c\\x8b\\xc2']\n",
      "Bad pipe message: %s [b'\\xc0\\xa6\\xbe\\xd5V\\x97\\xd9\\xba8\\xdb\\xb4d\\xdb\\xd5*\\xd3*N_\\xb8\\x1f\\x16\\xecF\\x92\\x97\\x13\\x8a\\xca8d5\\x1e#\\xa1\\x00\\xb5\\x10mSv\\xae\\x0bf\\x8e\\xd0G\\x19\\xe4\\xb7J\\xa5\\xea\\x80\\xf8;\\xb9\\x9f\\x823\\xea,\\x1e\\xc1&4`\\xf2\\x93\\x07\\xc9yr\\xd0\\x11\\xa8\\xca1Cj8\\x17\\xb3\\xc9\\xb7g\\x06\\xc5\\x16\\xa2C\\xe2\\xc7\\x12\\xe0\\x8e7\\xe3\\x03\\xda\\x1cU\\x7f\\x17\\xcb\\xdbv\\xc8\\xbd\\xcc\\xc3#\\xb5\\x03e\\xa7\\x9fz\\xb2\\x97\\xcb\\xf4\\xb5F\\x18\\x84\\xa2\\x07\\x01\\x18\\xe2\\x84\\xbe\\x1b\\x02\\x00\\xac \\x80\\x96\\x13\\x89i\\x04D\\x1a\\x8a<$Q\"\\xe7\\xb1\\x86\\x17\\xcf%7x5\\xac\\'dt\\xa8UD\\x9d', b'\\x9dn\\xeb\\xc7x\\x17\\x9c\\xfc\\xa8\\x07\\xeb\\xe8w\\xe5!U\\x89\\x10\\xbc`$\"\\xcfU\\x89\\xa5\\'\\xc6\\x14\\xd0W\\x10;<_P\\x15\\xf0\\xa5\\xb8\\x97E\\x9f\\xca3e\\x19f\\xc8\\xe7\\xba\\x06\\xfe\\x12J|\\xf97\\xc8\\xd5o&0\\xbfH\\xb9\\x10\\x87']\n",
      "Bad pipe message: %s [b'\\xc7V\\xfe\\x06\\\\dF\\xb4\\xfa\\x1c\\xadlU\\x91\\xf9G\\x804+\\x88\\xea\\x02\\x87ty\\\\\\xfb\\x9a\\x8d\\xbcJ\\xa8\\xd3X>|\\xebA\\xfa\\x8a*\\x82\\t\\xb8\\xfc\\x82\\xb4\\x8c\\xa0\\x96\\'\\n.E\\xf3\\x15\\x0fy\"\\x1d\\xcfZ\\xc9^\\xab\\x86\\xd0\\x91=\\xee\\xd8\\x8f\\xb7\\xa6\\xa1\\x88\\xd4\\xfd\\x8f\\x13\\x1c\\xe3BH\\x19\\xc8j+M\\x12\\xb3D\\x1d\\xbc\\xd6M!\\xab:\\xce\\xb1\\xae\\xda\\x9e\\xc7\\xb1\\xd3\\xb8V+\\xb06)G\\x98\\xee\\r\\xfd\\xe1b\\xeab!\\x00\\x1d\\x00 \\xc4(/X \\x83\\x93\\xae\\xa7\\xe5\\\\\\x8dz\\x99\\xcbk\\x00\\xecC*j\\xe7\\xd6\\xb1\\xbf\\xfcv\\xbfOs\\xc2`\\x00\\x17\\x00\\x00\\x00\\x05\\x00\\x05\\x01\\x00\\x00\\x00\\x00\\x00\\x0b\\x00\\x02\\x01\\x00\\x00\\r\\x00\\x12\\x00\\x10\\x04\\x03\\x08\\x04\\x04\\x01\\x05\\x03\\x08\\x05\\x05\\x01\\x08\\x06', b'\\x00+\\x00\\x07\\x06', b'\\x03\\x04\\x03\\x03\\x00#\\x00\\x00\\x00\\x1b\\x00\\x03\\x02\\x00\\x02\\x00\\x10\\x00\\x0e\\x00\\x0c\\x02h2\\x08']\n",
      "Bad pipe message: %s [b'\\xba\\x02K\\xd6\\xb7\\xcdj`@\\xad\\xb4\\xa1\\xaa\\xb0\\x9an\\xa5\\x1a\\x1aQ\\xc8\\xbe[\\xbb\\xa9\\xd6\\xb3\\xd6\\xd7W\\xc8\\xb8y\\x08\"\\x8e\\n\\x89Q\\xa8\\xd765kN\\'\\xd7|\\x03V\\x035\\\\\\xb6v\\xd0Z!\\x13G$\\x12\\xb9\\x08u\\x08\\x87+\\x10\\x11\\xf4\\x9ct\\xac\\x86jH\\x16\\xd1\\xd0\\x0f\\x90z\\x9c\\x14KC\\xfc$c\\xce\\xca\\x88\\x1a\\xec\\xbc\\xfd\\xb9\\xaf\\x0b\\xd8\\x17\\xb8\\xe2\\xbd\\xd6\\x14\\x04\\xecx\\xb1\\x16\\xd2@\\x00\\xb4\\x03\\xf5\\xf3HAvW\\xc2K4\\x17\\xe7/\\xb7\\xa4\\xa8\\x8a\\x80\\x13$X\\xae\\xd4;\\xa3\\xce!\\r\\'\\xf5 \\xe8e$qk@\\x1c\\xe7\\xceC\\xe8\\xc74\\x05T\\xd5d\\xba\\xe1\\x96j(\\xc1)_\\xe8\\x81/K\\x93\\x1d\\xa6\\x908\\x15\\x97\\x80\\x85H\\x8dR\\'\\x10\\xd5\\xc7\\x07\\xf7]\\x98\\xa0W\\xfd\\xc4\\x94\\xed\\xabE\\xbd\\x07,(<\\x8f\\xa7', b\"\\xafDx\\x1a\\x13\\x90\\xa2'\\x02\\x1f\\xa2\\xa5T\\x04X\\x02&O5\\xf8\\x1b>F@g*SL\\x8a!\\x85f\\x8c\\t\\x83^>j\\x9f\\xfeh+|\\xd3 \\xa3\\x03\\x8d\\x86\\xf1r\\xcc\\x17\\x80y\\xfacjg\\\\\\xc3&v\\xd2\\xc3\\xc2\"]\n",
      "Bad pipe message: %s [b'tp/1.1\\x00-\\x00\\x02\\x01\\x01\\xfe\\r\\x00\\xba\\x00\\x00\\x01\\x00\\x01\\x97\\x00 \\x19\\xa1[a0\\x9c\\xfd\\xa9\\xa8\\xd0m:k1\\xc7\\xb4\\xd8\\xb7\\r\\x98\\x9d\\x8f\\x9c\\x1a\\x08\\x85.\\xb4\\x96\\\\\\xeb>\\x00\\x901(v\\xb51\\x962\\x10\\xe5\\xf8\\xb0\\x86\\xd5\\xa1krtR\\xff\\xd7\\t\\xd7k\\xd7\\x95;\\xe5\\xed\\x964M\\xd7\\xfa\\xf8/\\xf0Zyv\\xb2l\\xf9\\xc4\\x07\\xb3']\n",
      "Bad pipe message: %s [b'\\\\o\\xc9?H\\x91q\\x14\\xa2G\\x8e=\\xfb_\\xf8\\xf81\\x00z\\xce\\x85bQ0\\x18\\xea\\x8f\\xcf6q\\x9f;\\xf0\\xc7:\\x9e\\x89\\x816]\\xdd\\x85\\x10\\xd0:\\x14/\\x97<\\xfek\\xfb\\xf8\\x8f\\xa7\\x16\\x95c\\xfe\\x10j\\xb4\\x00\\xc8\\xb3\\x8e\\x1a\\x08\\x00\\x1d\\x00 \\xf4Qf\\xe8\\xd9\\x8a>\\xc0\\xcd\\xfb?\\xea.?b\\x7fv\\xd36C\\x88fUH\\xd4\\x14K#\\x8e\\x98\\xdb\\x7f\\x00\\x12\\x00\\x00\\x00-\\x00\\x02\\x01\\x01\\xff\\x01\\x00\\x01\\x00\\x00#\\x00\\x00\\x00\\x17\\x00\\x00\\x00\\x10\\x00\\x0e\\x00\\x0c\\x02h2\\x08http/1']\n",
      "Bad pipe message: %s [b\"\\xf6W\\xc6\\x96%\\xcf\\x95\\x82\\x17l\\x12\\xd2\\\\/\\xc1\\xd2\\xb8\\xba\\xfc8~1R\\xf6\\x03\\xd6\\xbd~\\x0cZ\\xa3\\x94\\xf2\\xf1z2\\xc6\\xba\\xf6\\x90\\xdc\\xf5\\xfb\\x89\\x7f\\xf2\\x99\\xe3q?\\xdcH\\xec\\x07g^\\x83\\xd7'e\\xab{\\xf0\\x00/\\xb9\\xd7\\x9d\\xdbT$\\xed\\xca\\xbcs \\xe56\\x81\\x91\\xad/\\xe1\\x19*$\\x12\\x8e\"]\n"
     ]
    }
   ],
   "source": [
    "# Prompt template with a placeholder for the variable content\n",
    "PROMPT = \"\"\"Silvermist Hollow, a charming village, was home to an extraordinary group of individuals.\n",
    "Among them was Dr. Liam Patel, a neurosurgeon who revolutionized surgical techniques at the regional medical center.\n",
    "Olivia Chen was an innovative architect who transformed the village's landscape with her sustainable and breathtaking designs.\n",
    "The local theater was graced by the enchanting symphonies of Ethan Kovacs, a professionally-trained musician and composer.\n",
    "Isabella Torres, a self-taught chef with a passion for locally sourced ingredients, created a culinary sensation with her farm-to-table restaurant, which became a must-visit destination for food lovers.\n",
    "These remarkable individuals, each with their distinct talents, contributed to the vibrant tapestry of life in Silvermist Hollow.\n",
    "<individuals>\n",
    "1. Dr. Liam Patel [NEUROSURGEON]\n",
    "2. Olivia Chen [ARCHITECT]\n",
    "3. Ethan Kovacs [MISICIAN AND COMPOSER]\n",
    "4. Isabella Torres [CHEF]\n",
    "</individuals>\n",
    "\n",
    "At the heart of the town, Chef Oliver Hamilton has transformed the culinary scene with his farm-to-table restaurant, Green Plate. Oliver's dedication to sourcing local, organic ingredients has earned the establishment rave reviews from food critics and locals alike.\n",
    "Just down the street, you'll find the Riverside Grove Library, where head librarian Elizabeth Chen has worked diligently to create a welcoming and inclusive space for all. Her efforts to expand the library's offerings and establish reading programs for children have had a significant impact on the town's literacy rates.\n",
    "As you stroll through the charming town square, you'll be captivated by the beautiful murals adorning the walls. These masterpieces are the work of renowned artist, Isabella Torres, whose talent for capturing the essence of Riverside Grove has brought the town to life.\n",
    "Riverside Grove's athletic achievements are also worth noting, thanks to former Olympic swimmer-turned-coach, Marcus Jenkins. Marcus has used his experience and passion to train the town's youth, leading the Riverside Grove Swim Team to several regional championships.\n",
    "<individuals>\n",
    "1. Oliver Hamilton [CHEF]\n",
    "2. Elizabeth Chen [LIBRARIAN]\n",
    "3. Isabella Torres [ARTIST]\n",
    "4. Marcus Jenkins [COACH]\n",
    "</individuals>\n",
    "\n",
    "Oak Valley, a charming small town, is home to a remarkable trio of individuals whose skills and dedication have left a lasting impact on the community.\n",
    "At the town's bustling farmer's market, you'll find Laura Simmons, a passionate organic farmer known for her delicious and sustainably grown produce. Her dedication to promoting healthy eating has inspired the town to embrace a more eco-conscious lifestyle.\n",
    "In Oak Valley's community center, Kevin Alvarez, a skilled dance instructor, has brought the joy of movement to people of all ages. His inclusive dance classes have fostered a sense of unity and self-expression among residents, enriching the local arts scene.\n",
    "Lastly, Rachel O'Connor, a tireless volunteer, dedicates her time to various charitable initiatives. Her commitment to improving the lives of others has been instrumental in creating a strong sense of community within Oak Valley.\n",
    "Through their unique talents and unwavering dedication, Laura, Kevin, and Rachel have woven themselves into the fabric of Oak Valley, helping to create a vibrant and thriving small town.\"\"\"\n",
    "\n",
    "# Prefill for Claude's response\n",
    "PREFILL = \"<individuals>\"\n",
    "\n",
    "# Print Claude's response\n",
    "print(\"--------------------------- Full prompt with variable substutions ---------------------------\")\n",
    "print(\"USER TURN:\")\n",
    "print(PROMPT)\n",
    "print(\"\\nASSISTANT TURN:\")\n",
    "print(PREFILL)\n",
    "print(\"\\n------------------------------------- Claude's response -------------------------------------\")\n",
    "print(get_completion(PROMPT, prefill=PREFILL))"
   ]
  }
 ],
 "metadata": {
  "kernelspec": {
   "display_name": ".venv",
   "language": "python",
   "name": "python3"
  },
  "language_info": {
   "codemirror_mode": {
    "name": "ipython",
    "version": 3
   },
   "file_extension": ".py",
   "mimetype": "text/x-python",
   "name": "python",
   "nbconvert_exporter": "python",
   "pygments_lexer": "ipython3",
   "version": "3.11.11"
  }
 },
 "nbformat": 4,
 "nbformat_minor": 2
}
