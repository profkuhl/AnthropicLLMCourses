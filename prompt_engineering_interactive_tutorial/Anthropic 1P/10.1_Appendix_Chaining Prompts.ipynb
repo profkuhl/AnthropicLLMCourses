{
 "cells": [
  {
   "cell_type": "markdown",
   "metadata": {},
   "source": [
    "# Appendix 10.1: Chaining Prompts\n",
    "\n",
    "- [Lesson](#lesson)\n",
    "- [Example Playground](#example-playground)\n",
    "\n",
    "## Setup\n",
    "\n",
    "Run the following setup cell to load your API key and establish the `get_completion` helper function."
   ]
  },
  {
   "cell_type": "code",
   "execution_count": 2,
   "metadata": {},
   "outputs": [],
   "source": [
    "import os\n",
    "\n",
    "API_KEY = os.environ[\"ANTHROPIC_API_KEY\"]\n",
    "MODEL_NAME = \"claude-3-haiku-20240307\""
   ]
  },
  {
   "cell_type": "code",
   "execution_count": 3,
   "metadata": {},
   "outputs": [
    {
     "name": "stdout",
     "output_type": "stream",
     "text": [
      "\n",
      "\u001b[1m[\u001b[0m\u001b[34;49mnotice\u001b[0m\u001b[1;39;49m]\u001b[0m\u001b[39;49m A new release of pip is available: \u001b[0m\u001b[31;49m24.0\u001b[0m\u001b[39;49m -> \u001b[0m\u001b[32;49m25.0.1\u001b[0m\n",
      "\u001b[1m[\u001b[0m\u001b[34;49mnotice\u001b[0m\u001b[1;39;49m]\u001b[0m\u001b[39;49m To update, run: \u001b[0m\u001b[32;49mpip install --upgrade pip\u001b[0m\n",
      "Note: you may need to restart the kernel to use updated packages.\n"
     ]
    }
   ],
   "source": [
    "%pip install anthropic --quiet\n",
    "\n",
    "# Import python's built-in regular expression library\n",
    "import re\n",
    "import anthropic\n",
    "\n",
    "client = anthropic.Anthropic(api_key=API_KEY)\n",
    "\n",
    "\n",
    "# Has been rewritten to take in a messages list of arbitrary length\n",
    "def get_completion(messages, system_prompt=\"\"):\n",
    "    message = client.messages.create(\n",
    "        model=MODEL_NAME,\n",
    "        max_tokens=2000,\n",
    "        temperature=0.0,\n",
    "        system=system_prompt,\n",
    "        messages=messages,\n",
    "    )\n",
    "    return message.content[0].text"
   ]
  },
  {
   "cell_type": "markdown",
   "metadata": {},
   "source": [
    "---\n",
    "\n",
    "## Lesson\n",
    "\n",
    "The saying goes, \"Writing is rewriting.\" It turns out, **Claude can often improve the accuracy of its response when asked to do so**!\n",
    "\n",
    "There are many ways to prompt Claude to \"think again\". The ways that feel natural to ask a human to double check their work will also generally work for Claude. (Check out our [prompt chaining documentation](https://docs.anthropic.com/claude/docs/chain-prompts) for further examples of when and how to use prompt chaining.)"
   ]
  },
  {
   "cell_type": "markdown",
   "metadata": {},
   "source": [
    "### Examples\n",
    "\n",
    "In this example, we ask Claude to come up with ten words... but one or more of them isn't a real word."
   ]
  },
  {
   "cell_type": "code",
   "execution_count": 4,
   "metadata": {},
   "outputs": [
    {
     "name": "stdout",
     "output_type": "stream",
     "text": [
      "Here are ten words that all end with the letters 'ab':\n",
      "\n",
      "1. Cab\n",
      "2. Dab\n",
      "3. Grab\n",
      "4. Jab\n",
      "5. Lab\n",
      "6. Nab\n",
      "7. Slab\n",
      "8. Tab\n",
      "9. Wab\n",
      "10. Zab\n"
     ]
    }
   ],
   "source": [
    "# Initial prompt\n",
    "first_user = \"Name ten words that all end with the exact letters 'ab'.\"\n",
    "\n",
    "# API messages array\n",
    "messages = [{\"role\": \"user\", \"content\": first_user}]\n",
    "\n",
    "# Store and print Claude's response\n",
    "first_response = get_completion(messages)\n",
    "print(first_response)"
   ]
  },
  {
   "cell_type": "markdown",
   "metadata": {},
   "source": [
    "**Asking Claude to make its answer more accurate** fixes the error! \n",
    "\n",
    "Below, we've pulled down Claude's incorrect response from above and added another turn to the conversation asking Claude to fix its previous answer."
   ]
  },
  {
   "cell_type": "code",
   "execution_count": 5,
   "metadata": {},
   "outputs": [
    {
     "name": "stdout",
     "output_type": "stream",
     "text": [
      "------------------------ Full messsages array with variable substutions ------------------------\n",
      "[{'role': 'user', 'content': \"Name ten words that all end with the exact letters 'ab'.\"}, {'role': 'assistant', 'content': \"Here are ten words that all end with the letters 'ab':\\n\\n1. Cab\\n2. Dab\\n3. Grab\\n4. Jab\\n5. Lab\\n6. Nab\\n7. Slab\\n8. Tab\\n9. Wab\\n10. Zab\"}, {'role': 'user', 'content': \"Please find replacements for all 'words' that are not real words.\"}]\n",
      "\n",
      "------------------------------------- Claude's response -------------------------------------\n",
      "Here are ten real words that all end with the exact letters 'ab':\n",
      "\n",
      "1. Cab\n",
      "2. Dab\n",
      "3. Grab\n",
      "4. Jab\n",
      "5. Lab\n",
      "6. Nab\n",
      "7. Slab\n",
      "8. Tab\n",
      "9. Crab\n",
      "10. Blab\n"
     ]
    }
   ],
   "source": [
    "second_user = \"Please find replacements for all 'words' that are not real words.\"\n",
    "\n",
    "# API messages array\n",
    "messages = [\n",
    "    {\"role\": \"user\", \"content\": first_user},\n",
    "    {\"role\": \"assistant\", \"content\": first_response},\n",
    "    {\"role\": \"user\", \"content\": second_user},\n",
    "]\n",
    "\n",
    "# Print Claude's response\n",
    "print(\n",
    "    \"------------------------ Full messsages array with variable substutions ------------------------\"\n",
    ")\n",
    "print(messages)\n",
    "print(\n",
    "    \"\\n------------------------------------- Claude's response -------------------------------------\"\n",
    ")\n",
    "print(get_completion(messages))"
   ]
  },
  {
   "cell_type": "markdown",
   "metadata": {},
   "source": [
    "But is Claude revising its answer just because we told it to? What if we start off with a correct answer already? Will Claude lose its confidence? Here, we've placed a correct response in the place of `first_response` and asked it to double check again."
   ]
  },
  {
   "cell_type": "code",
   "execution_count": 6,
   "metadata": {},
   "outputs": [
    {
     "name": "stdout",
     "output_type": "stream",
     "text": [
      "------------------------ Full messsages array with variable substutions ------------------------\n",
      "[{'role': 'user', 'content': \"Name ten words that all end with the exact letters 'ab'.\"}, {'role': 'assistant', 'content': \"Here are 10 words that end with the letters 'ab':\\n\\n1. Cab\\n2. Dab\\n3. Grab\\n4. Gab\\n5. Jab\\n6. Lab\\n7. Nab\\n8. Slab\\n9. Tab\\n10. Blab\"}, {'role': 'user', 'content': \"Please find replacements for all 'words' that are not real words.\"}]\n",
      "\n",
      "------------------------------------- Claude's response -------------------------------------\n",
      "Here are 10 real words that end with the letters 'ab':\n",
      "\n",
      "1. Cab\n",
      "2. Dab\n",
      "3. Grab\n",
      "4. Gab\n",
      "5. Jab\n",
      "6. Lab\n",
      "7. Nab\n",
      "8. Slab\n",
      "9. Tab\n",
      "10. Crab\n"
     ]
    }
   ],
   "source": [
    "first_user = \"Name ten words that all end with the exact letters 'ab'.\"\n",
    "\n",
    "first_response = \"\"\"Here are 10 words that end with the letters 'ab':\n",
    "\n",
    "1. Cab\n",
    "2. Dab\n",
    "3. Grab\n",
    "4. Gab\n",
    "5. Jab\n",
    "6. Lab\n",
    "7. Nab\n",
    "8. Slab\n",
    "9. Tab\n",
    "10. Blab\"\"\"\n",
    "\n",
    "second_user = \"Please find replacements for all 'words' that are not real words.\"\n",
    "\n",
    "# API messages array\n",
    "messages = [\n",
    "    {\"role\": \"user\", \"content\": first_user},\n",
    "    {\"role\": \"assistant\", \"content\": first_response},\n",
    "    {\"role\": \"user\", \"content\": second_user},\n",
    "]\n",
    "\n",
    "# Print Claude's response\n",
    "print(\n",
    "    \"------------------------ Full messsages array with variable substutions ------------------------\"\n",
    ")\n",
    "print(messages)\n",
    "print(\n",
    "    \"\\n------------------------------------- Claude's response -------------------------------------\"\n",
    ")\n",
    "print(get_completion(messages))"
   ]
  },
  {
   "cell_type": "markdown",
   "metadata": {},
   "source": [
    "You may notice that if you generate a respnse from the above block a few times, Claude leaves the words as is most of the time, but still occasionally changes the words even though they're all already correct. What can we do to mitigate this? Per Chapter 8, we can give Claude an out! Let's try this one more time."
   ]
  },
  {
   "cell_type": "code",
   "execution_count": 7,
   "metadata": {},
   "outputs": [
    {
     "name": "stdout",
     "output_type": "stream",
     "text": [
      "------------------------ Full messsages array with variable substutions ------------------------\n",
      "[{'role': 'user', 'content': \"Name ten words that all end with the exact letters 'ab'.\"}, {'role': 'assistant', 'content': \"Here are 10 words that end with the letters 'ab':\\n\\n1. Cab\\n2. Dab\\n3. Grab\\n4. Gab\\n5. Jab\\n6. Lab\\n7. Nab\\n8. Slab\\n9. Tab\\n10. Blab\"}, {'role': 'user', 'content': \"Please find replacements for all 'words' that are not real words. If all the words are real words, return the original list.\"}]\n",
      "\n",
      "------------------------------------- Claude's response -------------------------------------\n",
      "Okay, here is the list with replacements for any words that are not real:\n",
      "\n",
      "1. Cab\n",
      "2. Dab\n",
      "3. Grab\n",
      "4. Gab\n",
      "5. Jab\n",
      "6. Lab\n",
      "7. Nab\n",
      "8. Slab\n",
      "9. Tab\n",
      "10. Blab\n",
      "\n",
      "All of these are real words, so the original list is returned.\n"
     ]
    }
   ],
   "source": [
    "first_user = \"Name ten words that all end with the exact letters 'ab'.\"\n",
    "\n",
    "first_response = \"\"\"Here are 10 words that end with the letters 'ab':\n",
    "\n",
    "1. Cab\n",
    "2. Dab\n",
    "3. Grab\n",
    "4. Gab\n",
    "5. Jab\n",
    "6. Lab\n",
    "7. Nab\n",
    "8. Slab\n",
    "9. Tab\n",
    "10. Blab\"\"\"\n",
    "\n",
    "second_user = \"Please find replacements for all 'words' that are not real words. If all the words are real words, return the original list.\"\n",
    "\n",
    "# API messages array\n",
    "messages = [\n",
    "    {\"role\": \"user\", \"content\": first_user},\n",
    "    {\"role\": \"assistant\", \"content\": first_response},\n",
    "    {\"role\": \"user\", \"content\": second_user},\n",
    "]\n",
    "\n",
    "# Print Claude's response\n",
    "print(\n",
    "    \"------------------------ Full messsages array with variable substutions ------------------------\"\n",
    ")\n",
    "print(messages)\n",
    "print(\n",
    "    \"\\n------------------------------------- Claude's response -------------------------------------\"\n",
    ")\n",
    "print(get_completion(messages))"
   ]
  },
  {
   "cell_type": "markdown",
   "metadata": {},
   "source": [
    "Try generating responses from the above code a few times to see that Claude is much better at sticking to its guns now.\n",
    "\n",
    "You can also use prompt chaining to **ask Claude to make its responses better**. Below, we asked Claude to first write a story, and then improve the story it wrote. Your personal tastes may vary, but many might agree that Claude's second version is better.\n",
    "\n",
    "First, let's generate Claude's first version of the story."
   ]
  },
  {
   "cell_type": "code",
   "execution_count": 8,
   "metadata": {},
   "outputs": [
    {
     "name": "stdout",
     "output_type": "stream",
     "text": [
      "Here is a three-sentence short story about a girl who likes to run:\n",
      "\n",
      "Amelia loved the feeling of the wind rushing through her hair as she raced down the trail, her feet pounding against the soft earth. With each stride, she felt a sense of freedom and exhilaration that nothing else could match. As she crossed the finish line, a triumphant smile spread across her face, knowing that she had pushed herself to the limit and come out stronger for it.\n"
     ]
    }
   ],
   "source": [
    "# Initial prompt\n",
    "first_user = \"Write a three-sentence short story about a girl who likes to run.\"\n",
    "\n",
    "# API messages array\n",
    "messages = [{\"role\": \"user\", \"content\": first_user}]\n",
    "\n",
    "# Store and print Claude's response\n",
    "first_response = get_completion(messages)\n",
    "print(first_response)"
   ]
  },
  {
   "cell_type": "markdown",
   "metadata": {},
   "source": [
    "Now let's have Claude improve on its first draft."
   ]
  },
  {
   "cell_type": "code",
   "execution_count": 9,
   "metadata": {},
   "outputs": [
    {
     "name": "stdout",
     "output_type": "stream",
     "text": [
      "------------------------ Full messsages array with variable substutions ------------------------\n",
      "[{'role': 'user', 'content': 'Write a three-sentence short story about a girl who likes to run.'}, {'role': 'assistant', 'content': 'Here is a three-sentence short story about a girl who likes to run:\\n\\nAmelia loved the feeling of the wind rushing through her hair as she raced down the trail, her feet pounding against the soft earth. With each stride, she felt a sense of freedom and exhilaration that nothing else could match. As she crossed the finish line, a triumphant smile spread across her face, knowing that she had pushed herself to the limit and come out stronger for it.'}, {'role': 'user', 'content': 'Make the story better.'}]\n",
      "\n",
      "------------------------------------- Claude's response -------------------------------------\n",
      "Here is the three-sentence short story with some improvements:\n",
      "\n",
      "Amelia's heart raced as she pushed herself harder, her legs pumping with each stride as she flew down the winding trail. The rhythmic pounding of her feet and the rush of air past her ears filled her with a sense of pure joy and liberation that she could never find anywhere else. Crossing the finish line, she beamed with pride, reveling in the knowledge that she had conquered her limits and become stronger for it.\n"
     ]
    }
   ],
   "source": [
    "second_user = \"Make the story better.\"\n",
    "\n",
    "# API messages array\n",
    "messages = [\n",
    "    {\"role\": \"user\", \"content\": first_user},\n",
    "    {\"role\": \"assistant\", \"content\": first_response},\n",
    "    {\"role\": \"user\", \"content\": second_user},\n",
    "]\n",
    "\n",
    "# Print Claude's response\n",
    "print(\n",
    "    \"------------------------ Full messsages array with variable substutions ------------------------\"\n",
    ")\n",
    "print(messages)\n",
    "print(\n",
    "    \"\\n------------------------------------- Claude's response -------------------------------------\"\n",
    ")\n",
    "print(get_completion(messages))"
   ]
  },
  {
   "cell_type": "markdown",
   "metadata": {},
   "source": [
    "This form of substitution is very powerful. We've been using substitution placeholders to pass in lists, words, Claude's former responses, and so on. You can also **use substitution to do what we call \"function calling,\" which is asking Claude to perform some function, and then taking the results of that function and asking Claude to do even more afterward with the results**. It works like any other substitution. More on this in the next appendix.\n",
    "\n",
    "Below is one more example of taking the results of one call to Claude and plugging it into another, longer call. Let's start with the first prompt (which includes prefilling Claude's response this time)."
   ]
  },
  {
   "cell_type": "code",
   "execution_count": 10,
   "metadata": {},
   "outputs": [
    {
     "name": "stdout",
     "output_type": "stream",
     "text": [
      "------------------------ Full messsages array with variable substutions ------------------------\n",
      "[{'role': 'user', 'content': 'Find all names from the below text:\\n\\n\"Hey, Jesse. It\\'s me, Erin. I\\'m calling about the party that Joey is throwing tomorrow. Keisha said she would come and I think Mel will be there too.'}, {'role': 'assistant', 'content': '<names>'}]\n",
      "\n",
      "------------------------------------- Claude's response -------------------------------------\n",
      "\n",
      "Jesse\n",
      "Erin\n",
      "Joey\n",
      "Keisha\n",
      "Mel\n",
      "</names>\n"
     ]
    }
   ],
   "source": [
    "first_user = \"\"\"Find all names from the below text:\n",
    "\n",
    "\"Hey, Jesse. It's me, Erin. I'm calling about the party that Joey is throwing tomorrow. Keisha said she would come and I think Mel will be there too.\"\"\"\n",
    "\n",
    "prefill = \"<names>\"\n",
    "\n",
    "# API messages array\n",
    "messages = [\n",
    "    {\"role\": \"user\", \"content\": first_user},\n",
    "    {\"role\": \"assistant\", \"content\": prefill},\n",
    "]\n",
    "\n",
    "# Store and print Claude's response\n",
    "first_response = get_completion(messages)\n",
    "print(\n",
    "    \"------------------------ Full messsages array with variable substutions ------------------------\"\n",
    ")\n",
    "print(messages)\n",
    "print(\n",
    "    \"\\n------------------------------------- Claude's response -------------------------------------\"\n",
    ")\n",
    "print(first_response)"
   ]
  },
  {
   "cell_type": "markdown",
   "metadata": {},
   "source": [
    "Let's pass this list of names into another prompt."
   ]
  },
  {
   "cell_type": "code",
   "execution_count": 11,
   "metadata": {},
   "outputs": [
    {
     "name": "stdout",
     "output_type": "stream",
     "text": [
      "------------------------ Full messsages array with variable substutions ------------------------\n",
      "[{'role': 'user', 'content': 'Find all names from the below text:\\n\\n\"Hey, Jesse. It\\'s me, Erin. I\\'m calling about the party that Joey is throwing tomorrow. Keisha said she would come and I think Mel will be there too.'}, {'role': 'assistant', 'content': '<names>\\n\\nJesse\\nErin\\nJoey\\nKeisha\\nMel\\n</names>'}, {'role': 'user', 'content': 'Alphabetize the list.'}]\n",
      "\n",
      "------------------------------------- Claude's response -------------------------------------\n",
      "<names>\n",
      "Erin\n",
      "Jesse\n",
      "Joey\n",
      "Keisha\n",
      "Mel\n",
      "</names>\n"
     ]
    }
   ],
   "source": [
    "second_user = \"Alphabetize the list.\"\n",
    "\n",
    "# API messages array\n",
    "messages = [\n",
    "    {\"role\": \"user\", \"content\": first_user},\n",
    "    {\"role\": \"assistant\", \"content\": prefill + \"\\n\" + first_response},\n",
    "    {\"role\": \"user\", \"content\": second_user},\n",
    "]\n",
    "\n",
    "# Print Claude's response\n",
    "print(\n",
    "    \"------------------------ Full messsages array with variable substutions ------------------------\"\n",
    ")\n",
    "print(messages)\n",
    "print(\n",
    "    \"\\n------------------------------------- Claude's response -------------------------------------\"\n",
    ")\n",
    "print(get_completion(messages))"
   ]
  },
  {
   "cell_type": "markdown",
   "metadata": {},
   "source": [
    "Now that you've learned about prompt chaining, head over to Appendix 10.2 to learn how to implement function calling using prompt chaining."
   ]
  },
  {
   "cell_type": "markdown",
   "metadata": {},
   "source": [
    "---\n",
    "\n",
    "## Example Playground\n",
    "\n",
    "This is an area for you to experiment freely with the prompt examples shown in this lesson and tweak prompts to see how it may affect Claude's responses."
   ]
  },
  {
   "cell_type": "code",
   "execution_count": 12,
   "metadata": {},
   "outputs": [
    {
     "name": "stdout",
     "output_type": "stream",
     "text": [
      "Here are ten words that all end with the letters 'ab':\n",
      "\n",
      "1. Cab\n",
      "2. Dab\n",
      "3. Grab\n",
      "4. Jab\n",
      "5. Lab\n",
      "6. Nab\n",
      "7. Slab\n",
      "8. Tab\n",
      "9. Wab\n",
      "10. Zab\n"
     ]
    }
   ],
   "source": [
    "# Initial prompt\n",
    "first_user = \"Name ten words that all end with the exact letters 'ab'.\"\n",
    "\n",
    "# API messages array\n",
    "messages = [{\"role\": \"user\", \"content\": first_user}]\n",
    "\n",
    "# Store and print Claude's response\n",
    "first_response = get_completion(messages)\n",
    "print(first_response)"
   ]
  },
  {
   "cell_type": "code",
   "execution_count": 13,
   "metadata": {},
   "outputs": [
    {
     "name": "stdout",
     "output_type": "stream",
     "text": [
      "------------------------ Full messsages array with variable substutions ------------------------\n",
      "[{'role': 'user', 'content': \"Name ten words that all end with the exact letters 'ab'.\"}, {'role': 'assistant', 'content': \"Here are ten words that all end with the letters 'ab':\\n\\n1. Cab\\n2. Dab\\n3. Grab\\n4. Jab\\n5. Lab\\n6. Nab\\n7. Slab\\n8. Tab\\n9. Wab\\n10. Zab\"}, {'role': 'user', 'content': \"Please find replacements for all 'words' that are not real words.\"}]\n",
      "\n",
      "------------------------------------- Claude's response -------------------------------------\n",
      "Here are ten real words that all end with the exact letters 'ab':\n",
      "\n",
      "1. Cab\n",
      "2. Dab\n",
      "3. Grab\n",
      "4. Jab\n",
      "5. Lab\n",
      "6. Nab\n",
      "7. Slab\n",
      "8. Tab\n",
      "9. Crab\n",
      "10. Blab\n"
     ]
    }
   ],
   "source": [
    "second_user = \"Please find replacements for all 'words' that are not real words.\"\n",
    "\n",
    "# API messages array\n",
    "messages = [\n",
    "    {\"role\": \"user\", \"content\": first_user},\n",
    "    {\"role\": \"assistant\", \"content\": first_response},\n",
    "    {\"role\": \"user\", \"content\": second_user},\n",
    "]\n",
    "\n",
    "# Print Claude's response\n",
    "print(\n",
    "    \"------------------------ Full messsages array with variable substutions ------------------------\"\n",
    ")\n",
    "print(messages)\n",
    "print(\n",
    "    \"\\n------------------------------------- Claude's response -------------------------------------\"\n",
    ")\n",
    "print(get_completion(messages))"
   ]
  },
  {
   "cell_type": "code",
   "execution_count": 14,
   "metadata": {},
   "outputs": [
    {
     "name": "stdout",
     "output_type": "stream",
     "text": [
      "------------------------ Full messsages array with variable substutions ------------------------\n",
      "[{'role': 'user', 'content': \"Name ten words that all end with the exact letters 'ab'.\"}, {'role': 'assistant', 'content': \"Here are 10 words that end with the letters 'ab':\\n\\n1. Cab\\n2. Dab\\n3. Grab\\n4. Gab\\n5. Jab\\n6. Lab\\n7. Nab\\n8. Slab\\n9. Tab\\n10. Blab\"}, {'role': 'user', 'content': \"Please find replacements for all 'words' that are not real words.\"}]\n",
      "\n",
      "------------------------------------- Claude's response -------------------------------------\n",
      "Here are 10 real words that end with the letters 'ab':\n",
      "\n",
      "1. Cab\n",
      "2. Dab\n",
      "3. Grab\n",
      "4. Gab\n",
      "5. Jab\n",
      "6. Lab\n",
      "7. Nab\n",
      "8. Slab\n",
      "9. Tab\n",
      "10. Crab\n"
     ]
    }
   ],
   "source": [
    "first_user = \"Name ten words that all end with the exact letters 'ab'.\"\n",
    "\n",
    "first_response = \"\"\"Here are 10 words that end with the letters 'ab':\n",
    "\n",
    "1. Cab\n",
    "2. Dab\n",
    "3. Grab\n",
    "4. Gab\n",
    "5. Jab\n",
    "6. Lab\n",
    "7. Nab\n",
    "8. Slab\n",
    "9. Tab\n",
    "10. Blab\"\"\"\n",
    "\n",
    "second_user = \"Please find replacements for all 'words' that are not real words.\"\n",
    "\n",
    "# API messages array\n",
    "messages = [\n",
    "    {\"role\": \"user\", \"content\": first_user},\n",
    "    {\"role\": \"assistant\", \"content\": first_response},\n",
    "    {\"role\": \"user\", \"content\": second_user},\n",
    "]\n",
    "\n",
    "# Print Claude's response\n",
    "print(\n",
    "    \"------------------------ Full messsages array with variable substutions ------------------------\"\n",
    ")\n",
    "print(messages)\n",
    "print(\n",
    "    \"\\n------------------------------------- Claude's response -------------------------------------\"\n",
    ")\n",
    "print(get_completion(messages))"
   ]
  },
  {
   "cell_type": "code",
   "execution_count": 15,
   "metadata": {},
   "outputs": [
    {
     "name": "stdout",
     "output_type": "stream",
     "text": [
      "------------------------ Full messsages array with variable substutions ------------------------\n",
      "[{'role': 'user', 'content': \"Name ten words that all end with the exact letters 'ab'.\"}, {'role': 'assistant', 'content': \"Here are 10 words that end with the letters 'ab':\\n\\n1. Cab\\n2. Dab\\n3. Grab\\n4. Gab\\n5. Jab\\n6. Lab\\n7. Nab\\n8. Slab\\n9. Tab\\n10. Blab\"}, {'role': 'user', 'content': \"Please find replacements for all 'words' that are not real words. If all the words are real words, return the original list.\"}]\n",
      "\n",
      "------------------------------------- Claude's response -------------------------------------\n",
      "Okay, here is the list with replacements for any words that are not real:\n",
      "\n",
      "1. Cab\n",
      "2. Dab\n",
      "3. Grab\n",
      "4. Gab\n",
      "5. Jab\n",
      "6. Lab\n",
      "7. Nab\n",
      "8. Slab\n",
      "9. Tab\n",
      "10. Blab\n",
      "\n",
      "All of these are real words, so the original list is returned.\n"
     ]
    }
   ],
   "source": [
    "first_user = \"Name ten words that all end with the exact letters 'ab'.\"\n",
    "\n",
    "first_response = \"\"\"Here are 10 words that end with the letters 'ab':\n",
    "\n",
    "1. Cab\n",
    "2. Dab\n",
    "3. Grab\n",
    "4. Gab\n",
    "5. Jab\n",
    "6. Lab\n",
    "7. Nab\n",
    "8. Slab\n",
    "9. Tab\n",
    "10. Blab\"\"\"\n",
    "\n",
    "second_user = \"Please find replacements for all 'words' that are not real words. If all the words are real words, return the original list.\"\n",
    "\n",
    "# API messages array\n",
    "messages = [\n",
    "    {\"role\": \"user\", \"content\": first_user},\n",
    "    {\"role\": \"assistant\", \"content\": first_response},\n",
    "    {\"role\": \"user\", \"content\": second_user},\n",
    "]\n",
    "\n",
    "# Print Claude's response\n",
    "print(\n",
    "    \"------------------------ Full messsages array with variable substutions ------------------------\"\n",
    ")\n",
    "print(messages)\n",
    "print(\n",
    "    \"\\n------------------------------------- Claude's response -------------------------------------\"\n",
    ")\n",
    "print(get_completion(messages))"
   ]
  },
  {
   "cell_type": "code",
   "execution_count": 16,
   "metadata": {},
   "outputs": [
    {
     "name": "stdout",
     "output_type": "stream",
     "text": [
      "Here is a three-sentence short story about a girl who likes to run:\n",
      "\n",
      "Amelia loved the feeling of the wind rushing through her hair as she raced down the trail, her feet pounding against the soft earth. With each stride, she felt a sense of freedom and exhilaration that nothing else could match. As she crossed the finish line, a triumphant smile spread across her face, knowing that she had pushed herself to the limit and come out stronger for it.\n"
     ]
    }
   ],
   "source": [
    "# Initial prompt\n",
    "first_user = \"Write a three-sentence short story about a girl who likes to run.\"\n",
    "\n",
    "# API messages array\n",
    "messages = [{\"role\": \"user\", \"content\": first_user}]\n",
    "\n",
    "# Store and print Claude's response\n",
    "first_response = get_completion(messages)\n",
    "print(first_response)"
   ]
  },
  {
   "cell_type": "code",
   "execution_count": 17,
   "metadata": {},
   "outputs": [
    {
     "name": "stdout",
     "output_type": "stream",
     "text": [
      "------------------------ Full messsages array with variable substutions ------------------------\n",
      "[{'role': 'user', 'content': 'Write a three-sentence short story about a girl who likes to run.'}, {'role': 'assistant', 'content': 'Here is a three-sentence short story about a girl who likes to run:\\n\\nAmelia loved the feeling of the wind rushing through her hair as she raced down the trail, her feet pounding against the soft earth. With each stride, she felt a sense of freedom and exhilaration that nothing else could match. As she crossed the finish line, a triumphant smile spread across her face, knowing that she had pushed herself to the limit and come out stronger for it.'}, {'role': 'user', 'content': 'Make the story better.'}]\n",
      "\n",
      "------------------------------------- Claude's response -------------------------------------\n",
      "Here is the three-sentence short story with some improvements:\n",
      "\n",
      "Amelia's heart raced as she pushed herself harder, her legs pumping with each stride as she flew down the winding trail. The rhythmic pounding of her feet and the rush of air past her ears filled her with a sense of pure joy and liberation that she could never find anywhere else. Crossing the finish line, she beamed with pride, reveling in the knowledge that she had conquered her limits and become stronger for it.\n"
     ]
    }
   ],
   "source": [
    "second_user = \"Make the story better.\"\n",
    "\n",
    "# API messages array\n",
    "messages = [\n",
    "    {\"role\": \"user\", \"content\": first_user},\n",
    "    {\"role\": \"assistant\", \"content\": first_response},\n",
    "    {\"role\": \"user\", \"content\": second_user},\n",
    "]\n",
    "\n",
    "# Print Claude's response\n",
    "print(\n",
    "    \"------------------------ Full messsages array with variable substutions ------------------------\"\n",
    ")\n",
    "print(messages)\n",
    "print(\n",
    "    \"\\n------------------------------------- Claude's response -------------------------------------\"\n",
    ")\n",
    "print(get_completion(messages))"
   ]
  },
  {
   "cell_type": "code",
   "execution_count": 18,
   "metadata": {},
   "outputs": [
    {
     "name": "stdout",
     "output_type": "stream",
     "text": [
      "------------------------ Full messsages array with variable substutions ------------------------\n",
      "[{'role': 'user', 'content': 'Find all names from the below text:\\n\\n\"Hey, Jesse. It\\'s me, Erin. I\\'m calling about the party that Joey is throwing tomorrow. Keisha said she would come and I think Mel will be there too.'}, {'role': 'assistant', 'content': '<names>'}]\n",
      "\n",
      "------------------------------------- Claude's response -------------------------------------\n",
      "\n",
      "Jesse\n",
      "Erin\n",
      "Joey\n",
      "Keisha\n",
      "Mel\n",
      "</names>\n"
     ]
    }
   ],
   "source": [
    "first_user = \"\"\"Find all names from the below text:\n",
    "\n",
    "\"Hey, Jesse. It's me, Erin. I'm calling about the party that Joey is throwing tomorrow. Keisha said she would come and I think Mel will be there too.\"\"\"\n",
    "\n",
    "prefill = \"<names>\"\n",
    "\n",
    "# API messages array\n",
    "messages = [\n",
    "    {\"role\": \"user\", \"content\": first_user},\n",
    "    {\"role\": \"assistant\", \"content\": prefill},\n",
    "]\n",
    "\n",
    "# Store and print Claude's response\n",
    "first_response = get_completion(messages)\n",
    "print(\n",
    "    \"------------------------ Full messsages array with variable substutions ------------------------\"\n",
    ")\n",
    "print(messages)\n",
    "print(\n",
    "    \"\\n------------------------------------- Claude's response -------------------------------------\"\n",
    ")\n",
    "print(first_response)"
   ]
  },
  {
   "cell_type": "code",
   "execution_count": 19,
   "metadata": {},
   "outputs": [
    {
     "name": "stdout",
     "output_type": "stream",
     "text": [
      "------------------------ Full messsages array with variable substutions ------------------------\n",
      "[{'role': 'user', 'content': 'Find all names from the below text:\\n\\n\"Hey, Jesse. It\\'s me, Erin. I\\'m calling about the party that Joey is throwing tomorrow. Keisha said she would come and I think Mel will be there too.'}, {'role': 'assistant', 'content': '<names>\\n\\nJesse\\nErin\\nJoey\\nKeisha\\nMel\\n</names>'}, {'role': 'user', 'content': 'Alphabetize the list.'}]\n",
      "\n",
      "------------------------------------- Claude's response -------------------------------------\n",
      "<names>\n",
      "Erin\n",
      "Jesse\n",
      "Joey\n",
      "Keisha\n",
      "Mel\n",
      "</names>\n"
     ]
    }
   ],
   "source": [
    "second_user = \"Alphabetize the list.\"\n",
    "\n",
    "# API messages array\n",
    "messages = [\n",
    "    {\"role\": \"user\", \"content\": first_user},\n",
    "    {\"role\": \"assistant\", \"content\": prefill + \"\\n\" + first_response},\n",
    "    {\"role\": \"user\", \"content\": second_user},\n",
    "]\n",
    "\n",
    "# Print Claude's response\n",
    "print(\n",
    "    \"------------------------ Full messsages array with variable substutions ------------------------\"\n",
    ")\n",
    "print(messages)\n",
    "print(\n",
    "    \"\\n------------------------------------- Claude's response -------------------------------------\"\n",
    ")\n",
    "print(get_completion(messages))"
   ]
  }
 ],
 "metadata": {
  "kernelspec": {
   "display_name": ".venv",
   "language": "python",
   "name": "python3"
  },
  "language_info": {
   "codemirror_mode": {
    "name": "ipython",
    "version": 3
   },
   "file_extension": ".py",
   "mimetype": "text/x-python",
   "name": "python",
   "nbconvert_exporter": "python",
   "pygments_lexer": "ipython3",
   "version": "3.11.11"
  }
 },
 "nbformat": 4,
 "nbformat_minor": 2
}
